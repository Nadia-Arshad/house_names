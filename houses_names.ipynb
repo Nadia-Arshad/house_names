{
  "nbformat": 4,
  "nbformat_minor": 0,
  "metadata": {
    "colab": {
      "provenance": []
    },
    "kernelspec": {
      "name": "python3",
      "display_name": "Python 3"
    },
    "language_info": {
      "name": "python"
    }
  },
  "cells": [
    {
      "cell_type": "markdown",
      "source": [
        "Use of Match, Case & If Loop:"
      ],
      "metadata": {
        "id": "GWIKBEU-lOKj"
      }
    },
    {
      "cell_type": "code",
      "source": [],
      "metadata": {
        "id": "dgW3-RuplZDz"
      },
      "execution_count": 9,
      "outputs": []
    },
    {
      "cell_type": "code",
      "source": [
        "name = input(\"What's your name? \")\n",
        "if name in [\"Harry\", \"Hermione\", \"Ron\"]:\n",
        "  print(\"Gryffindor\")\n",
        "elif name == \"Draco\":\n",
        "  print(\"Slytherine\")\n",
        "else:\n",
        "  print(\"Who\")"
      ],
      "metadata": {
        "colab": {
          "base_uri": "https://localhost:8080/"
        },
        "id": "rafx0LMQkGgj",
        "outputId": "2de20dea-6fae-4791-b1bc-ab4cc5c40d14"
      },
      "execution_count": 4,
      "outputs": [
        {
          "output_type": "stream",
          "name": "stdout",
          "text": [
            "What's your name? Naida\n",
            "Who\n"
          ]
        }
      ]
    },
    {
      "cell_type": "code",
      "source": [
        "name = input(\"What is your name? \").title()\n",
        "match name:\n",
        "  case \"Harry\" | \"Hermione\" | \"Ron\":\n",
        "    print(\"Gryffindor\")\n",
        "  case \"Draco\":\n",
        "    print(\"Slytherin\")\n",
        "  case _:\n",
        "    print(\"Who?\")"
      ],
      "metadata": {
        "colab": {
          "base_uri": "https://localhost:8080/"
        },
        "id": "bYT6-cWQkGG5",
        "outputId": "f6bc757b-4831-4cfa-d5d2-f6d3bdc2e89a"
      },
      "execution_count": 9,
      "outputs": [
        {
          "output_type": "stream",
          "name": "stdout",
          "text": [
            "What is your name? HARRY\n",
            "Gryffindor\n"
          ]
        }
      ]
    },
    {
      "cell_type": "code",
      "source": [],
      "metadata": {
        "id": "v6kLzdlehb5h"
      },
      "execution_count": null,
      "outputs": []
    }
  ]
}